{
 "cells": [
  {
   "cell_type": "code",
   "execution_count": 12,
   "metadata": {},
   "outputs": [
    {
     "ename": "ERROR",
     "evalue": "Error in rbind(info, getNamespaceInfo(env, \"S3methods\")): Anzahl der Spalten der Matrizen muss übereinstimmen (siehe Argument 2)\n",
     "output_type": "error",
     "traceback": [
      "Error in rbind(info, getNamespaceInfo(env, \"S3methods\")): Anzahl der Spalten der Matrizen muss übereinstimmen (siehe Argument 2)\nTraceback:\n",
      "1. devtools::install_github",
      "2. getExportedValue(pkg, name)",
      "3. asNamespace(ns)",
      "4. getNamespace(ns)",
      "5. tryCatch(loadNamespace(name), error = function(e) stop(e))",
      "6. tryCatchList(expr, classes, parentenv, handlers)",
      "7. tryCatchOne(expr, names, parentenv, handlers[[1L]])",
      "8. value[[3L]](cond)"
     ]
    }
   ],
   "source": [
    "devtools::install_github(\"izhbannikov/haplor\")"
   ]
  },
  {
   "cell_type": "code",
   "execution_count": 6,
   "metadata": {},
   "outputs": [
    {
     "ename": "ERROR",
     "evalue": "Error in library(haploR): there is no package called ‘haploR’\n",
     "output_type": "error",
     "traceback": [
      "Error in library(haploR): there is no package called ‘haploR’\nTraceback:\n",
      "1. library(haploR)",
      "2. stop(txt, domain = NA)"
     ]
    }
   ],
   "source": [
    "library(haploR)\n",
    "#res=queryHaploreg(file=\"DisGeNET_SNPIDs.txt\")"
   ]
  },
  {
   "cell_type": "code",
   "execution_count": null,
   "metadata": {},
   "outputs": [],
   "source": []
  }
 ],
 "metadata": {
  "kernelspec": {
   "display_name": "R",
   "language": "R",
   "name": "ir"
  },
  "language_info": {
   "codemirror_mode": "r",
   "file_extension": ".r",
   "mimetype": "text/x-r-source",
   "name": "R",
   "pygments_lexer": "r",
   "version": "3.5.1"
  }
 },
 "nbformat": 4,
 "nbformat_minor": 2
}
