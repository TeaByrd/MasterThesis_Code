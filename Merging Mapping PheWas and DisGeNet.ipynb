{
 "cells": [
  {
   "cell_type": "code",
   "execution_count": 1,
   "metadata": {},
   "outputs": [],
   "source": [
    "import pandas as pd"
   ]
  },
  {
   "cell_type": "code",
   "execution_count": 2,
   "metadata": {},
   "outputs": [],
   "source": [
    "phewas=pd.read_csv(\"Final New Mappings /snps_gene_haploreg_gtex.csv\")\n",
    "disgenet=pd.read_csv(\"Final New Mappings /snps_gene_haploreg_gtex_DisGEnet.csv\")"
   ]
  },
  {
   "cell_type": "code",
   "execution_count": 3,
   "metadata": {},
   "outputs": [
    {
     "name": "stdout",
     "output_type": "stream",
     "text": [
      "PheWas size 3994\n",
      "DisGeNet size 8505\n"
     ]
    }
   ],
   "source": [
    "print (\"PheWas size\",len(phewas))\n",
    "print (\"DisGeNet size\",len(disgenet))"
   ]
  },
  {
   "cell_type": "code",
   "execution_count": 4,
   "metadata": {},
   "outputs": [
    {
     "name": "stdout",
     "output_type": "stream",
     "text": [
      "Empty DataFrame\n",
      "Columns: [rsID, GENCODE_name]\n",
      "Index: []\n"
     ]
    }
   ],
   "source": [
    "merged_df=disgenet.merge(phewas)\n",
    "print (merged_df) #completely disjoint dataframes !!!"
   ]
  },
  {
   "cell_type": "code",
   "execution_count": 5,
   "metadata": {},
   "outputs": [
    {
     "name": "stdout",
     "output_type": "stream",
     "text": [
      "SNPs intersection []\n"
     ]
    }
   ],
   "source": [
    "#seed snps and genes also disjoint?\n",
    "catalog=pd.read_csv(\"phewascatalog_full.csv\")\n",
    "PD_snps_PheWAS=catalog[catalog[\"phewas phenotype\"]==\"Parkinson's disease\"] #121 Parkinson SNPs\n",
    "PD_snps_ids=PD_snps_PheWAS[\"snp\"].tolist()\n",
    "#\n",
    "PD_SNPs_DisGeNET=pd.read_csv(\"Final New Mappings /C0030567_disease_vda_summary_CURATED.tsv\",delimiter = '\\t')#321 Parkinson \n",
    "PD_snps_ids_disgenet=PD_SNPs_DisGeNET[\"Variant\"].tolist()\n",
    "#\n",
    "seed_intersection=[x for x in PD_snps_ids if x in PD_snps_ids_disgenet] # completely disjoint seed snps !!!\n",
    "print (\"SNPs intersection\",seed_intersection)"
   ]
  },
  {
   "cell_type": "code",
   "execution_count": 6,
   "metadata": {},
   "outputs": [
    {
     "name": "stdout",
     "output_type": "stream",
     "text": [
      "gene intersection ['U6', 'U6', 'U6', 'U6', 'U6', 'U6', 'U6', 'U6', 'U6', 'U6', 'U6', 'U6', 'U6', 'U6', 'U6', 'U6', 'U6', 'U6', 'U6', 'U6', 'U6', 'Metazoa_SRP', 'Metazoa_SRP', 'Metazoa_SRP', 'Metazoa_SRP', 'Metazoa_SRP', 'Metazoa_SRP', 'Metazoa_SRP', 'Metazoa_SRP', 'Metazoa_SRP', 'Metazoa_SRP', 'Metazoa_SRP', 'Metazoa_SRP', 'Metazoa_SRP', 'Metazoa_SRP', 'Metazoa_SRP', 'Metazoa_SRP', 'U6', 'U6', 'U6', 'U6', 'U6', 'U6', 'U6', 'U6', 'U6'] 46\n"
     ]
    }
   ],
   "source": [
    "phewas_genes=phewas.GENCODE_name.tolist()\n",
    "disgenet_genes=disgenet.GENCODE_name.tolist()\n",
    "gene_intersection=[x for x in phewas_genes if x in disgenet_genes] \n",
    "print (\"gene intersection\",gene_intersection, len(gene_intersection)) # very little gene intersection "
   ]
  },
  {
   "cell_type": "code",
   "execution_count": 7,
   "metadata": {},
   "outputs": [],
   "source": [
    "#### concatenate both dataframes\n",
    "mappings_concatenated=pd.concat([phewas,disgenet])"
   ]
  },
  {
   "cell_type": "code",
   "execution_count": 8,
   "metadata": {},
   "outputs": [
    {
     "name": "stdout",
     "output_type": "stream",
     "text": [
      "            rsID GENCODE_name\n",
      "0     rs13037879         UQCC\n",
      "1     rs13038012         UQCC\n",
      "2      rs8115394         UQCC\n",
      "3      rs2425054         UQCC\n",
      "4      rs8117705         UQCC\n",
      "...          ...          ...\n",
      "8500   rs9468199      ZNF602P\n",
      "8501   rs9468199   AL022393.9\n",
      "8502    rs947211        RAB29\n",
      "8503    rs947211        RAB7B\n",
      "8504   rs9841498    MCCC1-AS1\n",
      "\n",
      "[12499 rows x 2 columns]\n"
     ]
    }
   ],
   "source": [
    "print (mappings_concatenated)"
   ]
  },
  {
   "cell_type": "code",
   "execution_count": 37,
   "metadata": {},
   "outputs": [],
   "source": [
    "mappings_concatenated.to_csv(\"Final New Mappings /snps_genes_concatenated.csv\",index=False)"
   ]
  },
  {
   "cell_type": "code",
   "execution_count": null,
   "metadata": {},
   "outputs": [],
   "source": []
  }
 ],
 "metadata": {
  "kernelspec": {
   "display_name": "Python 3",
   "language": "python",
   "name": "python3"
  },
  "language_info": {
   "codemirror_mode": {
    "name": "ipython",
    "version": 3
   },
   "file_extension": ".py",
   "mimetype": "text/x-python",
   "name": "python",
   "nbconvert_exporter": "python",
   "pygments_lexer": "ipython3",
   "version": "3.6.10"
  }
 },
 "nbformat": 4,
 "nbformat_minor": 2
}
