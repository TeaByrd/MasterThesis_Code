{
 "cells": [
  {
   "cell_type": "code",
   "execution_count": 1,
   "metadata": {},
   "outputs": [],
   "source": [
    "import pandas as pd\n",
    "import subprocess"
   ]
  },
  {
   "cell_type": "code",
   "execution_count": 3,
   "metadata": {},
   "outputs": [
    {
     "name": "stdout",
     "output_type": "stream",
     "text": [
      "321\n"
     ]
    }
   ],
   "source": [
    "#DisGeNet\n",
    "# curated only, default parameters\n",
    "PD_SNPs_DisGeNET=pd.read_csv(\"C0030567_disease_vda_summary_CURATED.tsv\",delimiter = '\\t')#321 Parkinson \n",
    "PD_snps_ids_disgenet=PD_SNPs_DisGeNET[\"Variant\"].tolist()"
   ]
  },
  {
   "cell_type": "code",
   "execution_count": 12,
   "metadata": {},
   "outputs": [],
   "source": [
    "def chunker_list(seq, size):\n",
    "    return [seq[i::size] for i in range(size)]\n",
    "\n",
    "pd_snps_ids_chunks=chunker_list(PD_snps_ids_disgenet,4)"
   ]
  },
  {
   "cell_type": "code",
   "execution_count": 18,
   "metadata": {},
   "outputs": [
    {
     "name": "stdout",
     "output_type": "stream",
     "text": [
      "80\n"
     ]
    }
   ],
   "source": [
    "#applied this iteraltively for all 4 chunks of the snp ids cause of computative speed\n",
    "a=0\n",
    "with open (\"DisGeNET_SNPIDs_3.txt\",\"w\") as DisGeNET_SNPIDs:\n",
    "    for ID in pd_snps_ids_chunks[3]:\n",
    "        a+=1\n",
    "        DisGeNET_SNPIDs.write(ID+\"\\n\")"
   ]
  },
  {
   "cell_type": "code",
   "execution_count": 36,
   "metadata": {},
   "outputs": [
    {
     "name": "stderr",
     "output_type": "stream",
     "text": [
      "/anaconda3/lib/python3.7/site-packages/IPython/core/interactiveshell.py:3058: DtypeWarning: Columns (0,1,2,3,4,8,9,12,13) have mixed types. Specify dtype option on import or set low_memory=False.\n",
      "  interactivity=interactivity, compiler=compiler, result=result)\n"
     ]
    }
   ],
   "source": [
    "# reading the chunks \n",
    "df_0=pd.read_csv(\"DisGeNET_SNPIDs_0.txt\",delimiter = '\\t')\n",
    "df_1=pd.read_csv(\"DisGeNET_SNPIDs_1.txt\",delimiter = '\\t')\n",
    "df_2=pd.read_csv(\"DisGeNET_SNPIDs_2.txt\",delimiter = '\\t')\n",
    "df_3=pd.read_csv(\"DisGeNET_SNPIDs_3.txt\",delimiter = '\\t')"
   ]
  },
  {
   "cell_type": "code",
   "execution_count": 37,
   "metadata": {},
   "outputs": [],
   "source": [
    "#merging all dataframes\n",
    "merged_df = pd.concat([df_0, df_1,df_2,df_3])"
   ]
  },
  {
   "cell_type": "code",
   "execution_count": 38,
   "metadata": {},
   "outputs": [],
   "source": [
    "##keep column 6 and 25 (index 5 and 24). \"SNP ID\" and \"Gene name\"\n",
    "merged_df=merged_df[['rsID','GENCODE_name']]"
   ]
  },
  {
   "cell_type": "code",
   "execution_count": 40,
   "metadata": {},
   "outputs": [],
   "source": [
    "#drop duplicates\n",
    "merged_df_unique=merged_df.drop_duplicates(keep=\"first\",inplace=False)"
   ]
  },
  {
   "cell_type": "code",
   "execution_count": 41,
   "metadata": {},
   "outputs": [
    {
     "data": {
      "text/html": [
       "<div>\n",
       "<style scoped>\n",
       "    .dataframe tbody tr th:only-of-type {\n",
       "        vertical-align: middle;\n",
       "    }\n",
       "\n",
       "    .dataframe tbody tr th {\n",
       "        vertical-align: top;\n",
       "    }\n",
       "\n",
       "    .dataframe thead th {\n",
       "        text-align: right;\n",
       "    }\n",
       "</style>\n",
       "<table border=\"1\" class=\"dataframe\">\n",
       "  <thead>\n",
       "    <tr style=\"text-align: right;\">\n",
       "      <th></th>\n",
       "      <th>rsID</th>\n",
       "      <th>GENCODE_name</th>\n",
       "    </tr>\n",
       "  </thead>\n",
       "  <tbody>\n",
       "    <tr>\n",
       "      <td>0</td>\n",
       "      <td>rs7797870</td>\n",
       "      <td>KLHL7-AS1</td>\n",
       "    </tr>\n",
       "    <tr>\n",
       "      <td>1</td>\n",
       "      <td>rs6461685</td>\n",
       "      <td>KLHL7-AS1</td>\n",
       "    </tr>\n",
       "    <tr>\n",
       "      <td>2</td>\n",
       "      <td>rs12539467</td>\n",
       "      <td>KLHL7-AS1</td>\n",
       "    </tr>\n",
       "    <tr>\n",
       "      <td>3</td>\n",
       "      <td>rs6461687</td>\n",
       "      <td>KLHL7-AS1</td>\n",
       "    </tr>\n",
       "    <tr>\n",
       "      <td>4</td>\n",
       "      <td>rs6461688</td>\n",
       "      <td>KLHL7-AS1</td>\n",
       "    </tr>\n",
       "    <tr>\n",
       "      <td>...</td>\n",
       "      <td>...</td>\n",
       "      <td>...</td>\n",
       "    </tr>\n",
       "    <tr>\n",
       "      <td>18774</td>\n",
       "      <td>rs9963062</td>\n",
       "      <td>CTIF</td>\n",
       "    </tr>\n",
       "    <tr>\n",
       "      <td>18775</td>\n",
       "      <td>rs11661179</td>\n",
       "      <td>CTIF</td>\n",
       "    </tr>\n",
       "    <tr>\n",
       "      <td>18776</td>\n",
       "      <td>rs9964701</td>\n",
       "      <td>CTIF</td>\n",
       "    </tr>\n",
       "    <tr>\n",
       "      <td>18777</td>\n",
       "      <td>rs9964706</td>\n",
       "      <td>CTIF</td>\n",
       "    </tr>\n",
       "    <tr>\n",
       "      <td>18778</td>\n",
       "      <td>rs9952724</td>\n",
       "      <td>CTIF</td>\n",
       "    </tr>\n",
       "  </tbody>\n",
       "</table>\n",
       "<p>73805 rows × 2 columns</p>\n",
       "</div>"
      ],
      "text/plain": [
       "             rsID GENCODE_name\n",
       "0       rs7797870    KLHL7-AS1\n",
       "1       rs6461685    KLHL7-AS1\n",
       "2      rs12539467    KLHL7-AS1\n",
       "3       rs6461687    KLHL7-AS1\n",
       "4       rs6461688    KLHL7-AS1\n",
       "...           ...          ...\n",
       "18774   rs9963062         CTIF\n",
       "18775  rs11661179         CTIF\n",
       "18776   rs9964701         CTIF\n",
       "18777   rs9964706         CTIF\n",
       "18778   rs9952724         CTIF\n",
       "\n",
       "[73805 rows x 2 columns]"
      ]
     },
     "execution_count": 41,
     "metadata": {},
     "output_type": "execute_result"
    }
   ],
   "source": [
    "merged_df"
   ]
  },
  {
   "cell_type": "code",
   "execution_count": 42,
   "metadata": {},
   "outputs": [
    {
     "name": "stdout",
     "output_type": "stream",
     "text": [
      "NaN values removed 6415\n"
     ]
    }
   ],
   "source": [
    "#remove NaN valued rows and shady values \n",
    "merged_df_unique=merged_df_unique.dropna(inplace=False)\n",
    "print(\"NaN values removed\",len(merged_df_unique))"
   ]
  },
  {
   "cell_type": "code",
   "execution_count": 44,
   "metadata": {},
   "outputs": [
    {
     "name": "stdout",
     "output_type": "stream",
     "text": [
      "             rsID GENCODE_name\n",
      "0       rs7797870    KLHL7-AS1\n",
      "1       rs6461685    KLHL7-AS1\n",
      "2      rs12539467    KLHL7-AS1\n",
      "3       rs6461687    KLHL7-AS1\n",
      "4       rs6461688    KLHL7-AS1\n",
      "...           ...          ...\n",
      "18774   rs9963062         CTIF\n",
      "18775  rs11661179         CTIF\n",
      "18776   rs9964701         CTIF\n",
      "18777   rs9964706         CTIF\n",
      "18778   rs9952724         CTIF\n",
      "\n",
      "[6415 rows x 2 columns]\n"
     ]
    }
   ],
   "source": [
    "#make copy of mapping with legit name\n",
    "Haploreg_DisGeNet_final=merged_df_unique\n",
    "print (merged_df_unique)"
   ]
  },
  {
   "cell_type": "code",
   "execution_count": null,
   "metadata": {},
   "outputs": [],
   "source": [
    "################## Query GTEx (gtex_v8) with PheWAS data #####################"
   ]
  },
  {
   "cell_type": "code",
   "execution_count": 45,
   "metadata": {},
   "outputs": [],
   "source": [
    "#access Gtex portal thru API \"https://gtexportal.org/home/api-docs/index.html#!/association/singleTissueEqtl\"\n",
    "#fetch only brain tissue qtls\n",
    "with open('DisGeNet_snp_gene_eqtl.csv', 'a') as outfile: # save in csv\n",
    "    for snp in PD_snps_ids_disgenet:\n",
    "        command=\"curl -X GET --header \\'Accept: text/html\\' \\'https://gtexportal.org/rest/v1/association/singleTissueEqtl?format=tsv&snpId=\"+snp+\"&tissueSiteDetailId=Brain_Amygdala%2CBrain_Anterior_cingulate_cortex_BA24%2CBrain_Caudate_basal_ganglia%2CBrain_Cerebellar_Hemisphere%2CBrain_Cerebellum%2CBrain_Cortex%2CBrain_Frontal_Cortex_BA9%2CBrain_Hippocampus%2CBrain_Hypothalamus%2CBrain_Nucleus_accumbens_basal_ganglia%2CBrain_Putamen_basal_ganglia%2CBrain_Spinal_cord_cervical_c-1%2CBrain_Substantia_nigra&datasetId=gtex_v8\\'\"\n",
    "        subprocess.call(command,shell=True,stdout=outfile)"
   ]
  },
  {
   "cell_type": "code",
   "execution_count": 46,
   "metadata": {},
   "outputs": [
    {
     "name": "stdout",
     "output_type": "stream",
     "text": [
      "            snpId  geneSymbolUpper\n",
      "0      rs10256359        KLHL7-AS1\n",
      "1      rs10256359            NUPL2\n",
      "2      rs10256359      AC005082.12\n",
      "3      rs10256359            GPNMB\n",
      "4      rs10256359        KLHL7-AS1\n",
      "...           ...              ...\n",
      "15231   rs9841498        MCCC1-AS1\n",
      "15232       snpId  geneSymbolUpper\n",
      "15233       snpId  geneSymbolUpper\n",
      "15234       snpId  geneSymbolUpper\n",
      "15235       snpId  geneSymbolUpper\n",
      "\n",
      "[15236 rows x 2 columns]\n"
     ]
    }
   ],
   "source": [
    "eQTL_query_DisGeNet=pd.read_csv(\"DisGeNet_snp_gene_eqtl.csv\",sep=\"\\t\")\n",
    "#keep only snpID and gene symbol column\n",
    "eQTL_query_DisGeNet=eQTL_query_DisGeNet[[\"snpId\",\"geneSymbolUpper\"]]\n",
    "print (eQTL_query_DisGeNet)"
   ]
  },
  {
   "cell_type": "code",
   "execution_count": 47,
   "metadata": {},
   "outputs": [
    {
     "name": "stdout",
     "output_type": "stream",
     "text": [
      "No duplicates: 2323\n"
     ]
    }
   ],
   "source": [
    "#drop duplicates\n",
    "eQTL_query_DisGeNet=eQTL_query_DisGeNet.drop_duplicates(keep=\"first\",inplace=False)\n",
    "print (\"No duplicates:\",len(eQTL_query_DisGeNet))"
   ]
  },
  {
   "cell_type": "code",
   "execution_count": 55,
   "metadata": {},
   "outputs": [
    {
     "data": {
      "text/html": [
       "<div>\n",
       "<style scoped>\n",
       "    .dataframe tbody tr th:only-of-type {\n",
       "        vertical-align: middle;\n",
       "    }\n",
       "\n",
       "    .dataframe tbody tr th {\n",
       "        vertical-align: top;\n",
       "    }\n",
       "\n",
       "    .dataframe thead th {\n",
       "        text-align: right;\n",
       "    }\n",
       "</style>\n",
       "<table border=\"1\" class=\"dataframe\">\n",
       "  <thead>\n",
       "    <tr style=\"text-align: right;\">\n",
       "      <th></th>\n",
       "      <th>snpId</th>\n",
       "      <th>geneSymbolUpper</th>\n",
       "    </tr>\n",
       "  </thead>\n",
       "  <tbody>\n",
       "    <tr>\n",
       "      <td>0</td>\n",
       "      <td>rs10256359</td>\n",
       "      <td>KLHL7-AS1</td>\n",
       "    </tr>\n",
       "    <tr>\n",
       "      <td>1</td>\n",
       "      <td>rs10256359</td>\n",
       "      <td>NUPL2</td>\n",
       "    </tr>\n",
       "    <tr>\n",
       "      <td>2</td>\n",
       "      <td>rs10256359</td>\n",
       "      <td>AC005082.12</td>\n",
       "    </tr>\n",
       "    <tr>\n",
       "      <td>3</td>\n",
       "      <td>rs10256359</td>\n",
       "      <td>GPNMB</td>\n",
       "    </tr>\n",
       "    <tr>\n",
       "      <td>9</td>\n",
       "      <td>rs10256359</td>\n",
       "      <td>AK3P3</td>\n",
       "    </tr>\n",
       "    <tr>\n",
       "      <td>45</td>\n",
       "      <td>snpId</td>\n",
       "      <td>geneSymbolUpper</td>\n",
       "    </tr>\n",
       "    <tr>\n",
       "      <td>46</td>\n",
       "      <td>rs10445337</td>\n",
       "      <td>PLEKHM1</td>\n",
       "    </tr>\n",
       "    <tr>\n",
       "      <td>47</td>\n",
       "      <td>rs10445337</td>\n",
       "      <td>LRRC37A4P</td>\n",
       "    </tr>\n",
       "    <tr>\n",
       "      <td>48</td>\n",
       "      <td>rs10445337</td>\n",
       "      <td>DND1P1</td>\n",
       "    </tr>\n",
       "    <tr>\n",
       "      <td>49</td>\n",
       "      <td>rs10445337</td>\n",
       "      <td>MAPK8IP1P2</td>\n",
       "    </tr>\n",
       "  </tbody>\n",
       "</table>\n",
       "</div>"
      ],
      "text/plain": [
       "         snpId  geneSymbolUpper\n",
       "0   rs10256359        KLHL7-AS1\n",
       "1   rs10256359            NUPL2\n",
       "2   rs10256359      AC005082.12\n",
       "3   rs10256359            GPNMB\n",
       "9   rs10256359            AK3P3\n",
       "45       snpId  geneSymbolUpper\n",
       "46  rs10445337          PLEKHM1\n",
       "47  rs10445337        LRRC37A4P\n",
       "48  rs10445337           DND1P1\n",
       "49  rs10445337       MAPK8IP1P2"
      ]
     },
     "execution_count": 55,
     "metadata": {},
     "output_type": "execute_result"
    }
   ],
   "source": [
    "eQTL_query_DisGeNet.head(10) #shady row in index 5"
   ]
  },
  {
   "cell_type": "code",
   "execution_count": 56,
   "metadata": {},
   "outputs": [
    {
     "name": "stdout",
     "output_type": "stream",
     "text": [
      "final size 2322\n",
      "            snpId geneSymbolUpper\n",
      "0      rs10256359       KLHL7-AS1\n",
      "1      rs10256359           NUPL2\n",
      "2      rs10256359     AC005082.12\n",
      "3      rs10256359           GPNMB\n",
      "9      rs10256359           AK3P3\n",
      "...           ...             ...\n",
      "15209    rs947211           RAB29\n",
      "15214    rs947211           RAB7B\n",
      "15220   rs9568188          CAB39L\n",
      "15228   rs9841498           MCCC1\n",
      "15229   rs9841498       MCCC1-AS1\n",
      "\n",
      "[2322 rows x 2 columns]\n"
     ]
    }
   ],
   "source": [
    "#drop shady row nr 5\n",
    "eQTL_query_DisGeNet=eQTL_query_DisGeNet.drop(eQTL_query_DisGeNet.index[5])\n",
    "print(\"final size\",len(eQTL_query_DisGeNet))\n",
    "print (eQTL_query_DisGeNet)"
   ]
  },
  {
   "cell_type": "code",
   "execution_count": 57,
   "metadata": {},
   "outputs": [],
   "source": [
    "#### combine Haploreg and GTEx results and only consider eQTL SNPs, which are in Haploreg results\n",
    "#\n",
    "#Drop snps that are not in Haploreg results\n",
    "haplo_ids=Haploreg_DisGeNet_final.rsID.tolist()\n",
    "eQTL_query_DisGeNet_haplofilter=eQTL_query_DisGeNet[eQTL_query_DisGeNet[\"snpId\"].isin(haplo_ids)]"
   ]
  },
  {
   "cell_type": "code",
   "execution_count": 58,
   "metadata": {},
   "outputs": [],
   "source": [
    "#renaming eQTL_query_PheWAS_haplofilter column names\n",
    "eQTL_query_DisGeNet_haplofilter.columns=[\"rsID\",\"GENCODE_name\"]"
   ]
  },
  {
   "cell_type": "code",
   "execution_count": 59,
   "metadata": {},
   "outputs": [
    {
     "data": {
      "text/html": [
       "<div>\n",
       "<style scoped>\n",
       "    .dataframe tbody tr th:only-of-type {\n",
       "        vertical-align: middle;\n",
       "    }\n",
       "\n",
       "    .dataframe tbody tr th {\n",
       "        vertical-align: top;\n",
       "    }\n",
       "\n",
       "    .dataframe thead th {\n",
       "        text-align: right;\n",
       "    }\n",
       "</style>\n",
       "<table border=\"1\" class=\"dataframe\">\n",
       "  <thead>\n",
       "    <tr style=\"text-align: right;\">\n",
       "      <th></th>\n",
       "      <th></th>\n",
       "      <th>rsID</th>\n",
       "      <th>GENCODE_name</th>\n",
       "    </tr>\n",
       "  </thead>\n",
       "  <tbody>\n",
       "    <tr>\n",
       "      <td rowspan=\"5\" valign=\"top\">haplo</td>\n",
       "      <td>0</td>\n",
       "      <td>rs7797870</td>\n",
       "      <td>KLHL7-AS1</td>\n",
       "    </tr>\n",
       "    <tr>\n",
       "      <td>1</td>\n",
       "      <td>rs6461685</td>\n",
       "      <td>KLHL7-AS1</td>\n",
       "    </tr>\n",
       "    <tr>\n",
       "      <td>2</td>\n",
       "      <td>rs12539467</td>\n",
       "      <td>KLHL7-AS1</td>\n",
       "    </tr>\n",
       "    <tr>\n",
       "      <td>3</td>\n",
       "      <td>rs6461687</td>\n",
       "      <td>KLHL7-AS1</td>\n",
       "    </tr>\n",
       "    <tr>\n",
       "      <td>4</td>\n",
       "      <td>rs6461688</td>\n",
       "      <td>KLHL7-AS1</td>\n",
       "    </tr>\n",
       "    <tr>\n",
       "      <td>...</td>\n",
       "      <td>...</td>\n",
       "      <td>...</td>\n",
       "      <td>...</td>\n",
       "    </tr>\n",
       "    <tr>\n",
       "      <td rowspan=\"5\" valign=\"top\">gtex</td>\n",
       "      <td>15209</td>\n",
       "      <td>rs947211</td>\n",
       "      <td>RAB29</td>\n",
       "    </tr>\n",
       "    <tr>\n",
       "      <td>15214</td>\n",
       "      <td>rs947211</td>\n",
       "      <td>RAB7B</td>\n",
       "    </tr>\n",
       "    <tr>\n",
       "      <td>15220</td>\n",
       "      <td>rs9568188</td>\n",
       "      <td>CAB39L</td>\n",
       "    </tr>\n",
       "    <tr>\n",
       "      <td>15228</td>\n",
       "      <td>rs9841498</td>\n",
       "      <td>MCCC1</td>\n",
       "    </tr>\n",
       "    <tr>\n",
       "      <td>15229</td>\n",
       "      <td>rs9841498</td>\n",
       "      <td>MCCC1-AS1</td>\n",
       "    </tr>\n",
       "  </tbody>\n",
       "</table>\n",
       "<p>8599 rows × 2 columns</p>\n",
       "</div>"
      ],
      "text/plain": [
       "                   rsID GENCODE_name\n",
       "haplo 0       rs7797870    KLHL7-AS1\n",
       "      1       rs6461685    KLHL7-AS1\n",
       "      2      rs12539467    KLHL7-AS1\n",
       "      3       rs6461687    KLHL7-AS1\n",
       "      4       rs6461688    KLHL7-AS1\n",
       "...                 ...          ...\n",
       "gtex  15209    rs947211        RAB29\n",
       "      15214    rs947211        RAB7B\n",
       "      15220   rs9568188       CAB39L\n",
       "      15228   rs9841498        MCCC1\n",
       "      15229   rs9841498    MCCC1-AS1\n",
       "\n",
       "[8599 rows x 2 columns]"
      ]
     },
     "execution_count": 59,
     "metadata": {},
     "output_type": "execute_result"
    }
   ],
   "source": [
    "#join Haploreg_PheWAS_final and eQTL_query_PheWAS_haplofilter\n",
    "frames = [Haploreg_DisGeNet_final,eQTL_query_DisGeNet_haplofilter]\n",
    "snps_gene_haploreg_gtex_DisGEnet = pd.concat(frames, keys=['haplo', 'gtex'])\n",
    "#\n",
    "snps_gene_haploreg_gtex_DisGEnet"
   ]
  },
  {
   "cell_type": "code",
   "execution_count": 60,
   "metadata": {},
   "outputs": [],
   "source": [
    "#remove duplicates from joined dataframe\n",
    "snps_gene_haploreg_gtex_DisGEnet=snps_gene_haploreg_gtex_DisGEnet.drop_duplicates(keep=\"first\",inplace=False)"
   ]
  },
  {
   "cell_type": "code",
   "execution_count": 61,
   "metadata": {},
   "outputs": [
    {
     "name": "stdout",
     "output_type": "stream",
     "text": [
      "8505\n"
     ]
    }
   ],
   "source": [
    "print(len(snps_gene_haploreg_gtex_DisGEnet)) #done\n",
    "snps_gene_haploreg_gtex_DisGEnet.to_csv(\"snps_gene_haploreg_gtex_DisGEnet.csv\",index=False)"
   ]
  },
  {
   "cell_type": "code",
   "execution_count": null,
   "metadata": {},
   "outputs": [],
   "source": [
    "######################################################"
   ]
  }
 ],
 "metadata": {
  "kernelspec": {
   "display_name": "Python 3",
   "language": "python",
   "name": "python3"
  },
  "language_info": {
   "codemirror_mode": {
    "name": "ipython",
    "version": 3
   },
   "file_extension": ".py",
   "mimetype": "text/x-python",
   "name": "python",
   "nbconvert_exporter": "python",
   "pygments_lexer": "ipython3",
   "version": "3.7.3"
  }
 },
 "nbformat": 4,
 "nbformat_minor": 2
}
