{
 "cells": [
  {
   "cell_type": "code",
   "execution_count": 1,
   "metadata": {},
   "outputs": [],
   "source": [
    "import pandas as pd\n",
    "import subprocess"
   ]
  },
  {
   "cell_type": "code",
   "execution_count": 2,
   "metadata": {},
   "outputs": [],
   "source": [
    "#PheWAS\n",
    "catalog=pd.read_csv(\"phewascatalog_full.csv\")\n",
    "PD_snps_PheWAS=catalog[catalog[\"phewas phenotype\"]==\"Parkinson's disease\"] #121 Parkinson SNPs\n",
    "PD_snps_ids=PD_snps_PheWAS[\"snp\"].tolist()\n",
    "with open (\"PheWAS_SNPIDs.txt\",\"w\") as PheWAS_SNPIDs:\n",
    "    for ID in PD_snps_ids:\n",
    "        PheWAS_SNPIDs.write(ID+\"\\n\")"
   ]
  },
  {
   "cell_type": "code",
   "execution_count": null,
   "metadata": {},
   "outputs": [],
   "source": [
    "#### Query Haploreg with PheWAS data ####"
   ]
  },
  {
   "cell_type": "code",
   "execution_count": 16,
   "metadata": {},
   "outputs": [
    {
     "name": "stdout",
     "output_type": "stream",
     "text": [
      "initial size: 3977\n",
      "Duplicates removed 3928\n"
     ]
    }
   ],
   "source": [
    "#Haploreg Query from browser, default values\n",
    "Haploreg_queryPheWAS=pd.read_csv(\"haploreg_query_PHEWAS.txt\",delimiter = '\\t')\n",
    "#keep column 6 and 25 (index 5 and 24). \"SNP ID\" and \"Gene name\"\n",
    "Haploreg_queryPheWAS_map = Haploreg_queryPheWAS[['rsID','GENCODE_name']]\n",
    "print (\"initial size:\",len(Haploreg_queryPheWAS_map))\n",
    "#remove duplicates, keep first occurence\n",
    "Haploreg_queryPheWAS_map_unique=Haploreg_queryPheWAS_map.drop_duplicates(keep=\"first\",inplace=False)\n",
    "print(\"Duplicates removed\",len(Haploreg_queryPheWAS_map_unique))"
   ]
  },
  {
   "cell_type": "code",
   "execution_count": 17,
   "metadata": {},
   "outputs": [
    {
     "name": "stdout",
     "output_type": "stream",
     "text": [
      "NaN values removed 3914\n"
     ]
    }
   ],
   "source": [
    "#remove NaN valued rows and shady values \n",
    "Haploreg_queryPheWAS_map_unique_nonan=Haploreg_queryPheWAS_map_unique.dropna(inplace=False)\n",
    "print(\"NaN values removed\",len(Haploreg_queryPheWAS_map_unique_nonan))"
   ]
  },
  {
   "cell_type": "code",
   "execution_count": 18,
   "metadata": {},
   "outputs": [
    {
     "name": "stdout",
     "output_type": "stream",
     "text": [
      "             rsID GENCODE_name\n",
      "0      rs13037879         UQCC\n",
      "1      rs13038012         UQCC\n",
      "2       rs8115394         UQCC\n",
      "3       rs2425054         UQCC\n",
      "4       rs8117705         UQCC\n",
      "...           ...          ...\n",
      "3972   rs10192369        RBMS1\n",
      "3973    rs7420624        RBMS1\n",
      "3974  rs143632448        RBMS1\n",
      "3975    rs7250872       ATP8B3\n",
      "3976   rs10418560       ATP8B3\n",
      "\n",
      "[3914 rows x 2 columns]\n"
     ]
    }
   ],
   "source": [
    "#make copy of mapping with legit name\n",
    "Haploreg_PheWAS_final=Haploreg_queryPheWAS_map_unique_nonan\n",
    "print (Haploreg_PheWAS_final)"
   ]
  },
  {
   "cell_type": "code",
   "execution_count": null,
   "metadata": {},
   "outputs": [],
   "source": [
    "#### Query GTEx (gtex_v8) with PheWAS data ####"
   ]
  },
  {
   "cell_type": "code",
   "execution_count": 40,
   "metadata": {},
   "outputs": [],
   "source": [
    "#access Gtex portal thru API \"https://gtexportal.org/home/api-docs/index.html#!/association/singleTissueEqtl\"\n",
    "#fetch only brain tissue qtls\n",
    "with open('Phewas_snp_gene_eqtl.csv', 'a') as outfile: # save in csv\n",
    "    for snp in PD_snps_ids:\n",
    "        command=\"curl -X GET --header \\'Accept: text/html\\' \\'https://gtexportal.org/rest/v1/association/singleTissueEqtl?format=tsv&snpId=\"+snp+\"&tissueSiteDetailId=Brain_Amygdala%2CBrain_Anterior_cingulate_cortex_BA24%2CBrain_Caudate_basal_ganglia%2CBrain_Cerebellar_Hemisphere%2CBrain_Cerebellum%2CBrain_Cortex%2CBrain_Frontal_Cortex_BA9%2CBrain_Hippocampus%2CBrain_Hypothalamus%2CBrain_Nucleus_accumbens_basal_ganglia%2CBrain_Putamen_basal_ganglia%2CBrain_Spinal_cord_cervical_c-1%2CBrain_Substantia_nigra&datasetId=gtex_v8\\'\"\n",
    "        subprocess.call(command,shell=True,stdout=outfile)"
   ]
  },
  {
   "cell_type": "code",
   "execution_count": 41,
   "metadata": {},
   "outputs": [
    {
     "name": "stdout",
     "output_type": "stream",
     "text": [
      "Initial size: 455\n",
      "         snpId  geneSymbolUpper\n",
      "0    rs6088792             GDF5\n",
      "1    rs6088792          RPL36P4\n",
      "2    rs6088792          RPL36P4\n",
      "3    rs6088792             GDF5\n",
      "4    rs6088792          RPL36P4\n",
      "..         ...              ...\n",
      "450      snpId  geneSymbolUpper\n",
      "451  rs7250872           ATP8B3\n",
      "452  rs7250872           ATP8B3\n",
      "453  rs7250872           ATP8B3\n",
      "454  rs7250872           ATP8B3\n",
      "\n",
      "[455 rows x 2 columns]\n"
     ]
    }
   ],
   "source": [
    "eQTL_query_PheWAS=pd.read_csv(\"Phewas_snp_gene_eqtl.csv\",sep=\"\\t\")\n",
    "#keep only snpID and gene symbol column\n",
    "eQTL_query_PheWAS=eQTL_query_PheWAS[[\"snpId\",\"geneSymbolUpper\"]]\n",
    "print (\"Initial size:\",len(eQTL_query_PheWAS))\n",
    "print (eQTL_query_PheWAS)"
   ]
  },
  {
   "cell_type": "code",
   "execution_count": 42,
   "metadata": {},
   "outputs": [
    {
     "name": "stdout",
     "output_type": "stream",
     "text": [
      "No duplicates: 112\n"
     ]
    }
   ],
   "source": [
    "#drop duplicates\n",
    "eQTL_query_PheWAS=eQTL_query_PheWAS.drop_duplicates(keep=\"first\",inplace=False)\n",
    "print (\"No duplicates:\",len(eQTL_query_PheWAS))"
   ]
  },
  {
   "cell_type": "code",
   "execution_count": 44,
   "metadata": {},
   "outputs": [
    {
     "name": "stdout",
     "output_type": "stream",
     "text": [
      "final size 110\n",
      "         snpId geneSymbolUpper\n",
      "0    rs6088792            GDF5\n",
      "1    rs6088792         RPL36P4\n",
      "5    rs6088792           UQCC1\n",
      "10   rs6088792        MAP1LC3A\n",
      "13   rs6088792           MYH7B\n",
      "..         ...             ...\n",
      "434   rs987870         COL11A2\n",
      "438   rs987870            RXRB\n",
      "440  rs1494961         MRPS18C\n",
      "441  rs1494961      SLC25A14P1\n",
      "451  rs7250872          ATP8B3\n",
      "\n",
      "[110 rows x 2 columns]\n"
     ]
    }
   ],
   "source": [
    "#drop shady row nr 5\n",
    "eQTL_query_PheWAS=eQTL_query_PheWAS.drop(eQTL_query_PheWAS.index[5])\n",
    "print(\"final size\",len(eQTL_query_PheWAS))\n",
    "print (eQTL_query_PheWAS)"
   ]
  },
  {
   "cell_type": "code",
   "execution_count": 70,
   "metadata": {},
   "outputs": [],
   "source": [
    "#### combine Haploreg and GTEx results and only consider eQTL SNPs, which are in Haploreg results\n",
    "#\n",
    "#Drop snps that are not in Haploreg results\n",
    "haplo_ids=Haploreg_PheWAS_final.rsID.tolist()\n",
    "eQTL_query_PheWAS_haplofilter=eQTL_query_PheWAS[eQTL_query_PheWAS[\"snpId\"].isin(haplo_ids)]"
   ]
  },
  {
   "cell_type": "code",
   "execution_count": 74,
   "metadata": {},
   "outputs": [],
   "source": [
    "#renaming eQTL_query_PheWAS_haplofilter column names\n",
    "eQTL_query_PheWAS_haplofilter.columns=[\"rsID\",\"GENCODE_name\"]"
   ]
  },
  {
   "cell_type": "code",
   "execution_count": 78,
   "metadata": {},
   "outputs": [
    {
     "data": {
      "text/html": [
       "<div>\n",
       "<style scoped>\n",
       "    .dataframe tbody tr th:only-of-type {\n",
       "        vertical-align: middle;\n",
       "    }\n",
       "\n",
       "    .dataframe tbody tr th {\n",
       "        vertical-align: top;\n",
       "    }\n",
       "\n",
       "    .dataframe thead th {\n",
       "        text-align: right;\n",
       "    }\n",
       "</style>\n",
       "<table border=\"1\" class=\"dataframe\">\n",
       "  <thead>\n",
       "    <tr style=\"text-align: right;\">\n",
       "      <th></th>\n",
       "      <th></th>\n",
       "      <th>rsID</th>\n",
       "      <th>GENCODE_name</th>\n",
       "    </tr>\n",
       "  </thead>\n",
       "  <tbody>\n",
       "    <tr>\n",
       "      <td rowspan=\"5\" valign=\"top\">haplo</td>\n",
       "      <td>0</td>\n",
       "      <td>rs13037879</td>\n",
       "      <td>UQCC</td>\n",
       "    </tr>\n",
       "    <tr>\n",
       "      <td>1</td>\n",
       "      <td>rs13038012</td>\n",
       "      <td>UQCC</td>\n",
       "    </tr>\n",
       "    <tr>\n",
       "      <td>2</td>\n",
       "      <td>rs8115394</td>\n",
       "      <td>UQCC</td>\n",
       "    </tr>\n",
       "    <tr>\n",
       "      <td>3</td>\n",
       "      <td>rs2425054</td>\n",
       "      <td>UQCC</td>\n",
       "    </tr>\n",
       "    <tr>\n",
       "      <td>4</td>\n",
       "      <td>rs8117705</td>\n",
       "      <td>UQCC</td>\n",
       "    </tr>\n",
       "    <tr>\n",
       "      <td>...</td>\n",
       "      <td>...</td>\n",
       "      <td>...</td>\n",
       "      <td>...</td>\n",
       "    </tr>\n",
       "    <tr>\n",
       "      <td rowspan=\"5\" valign=\"top\">gtex</td>\n",
       "      <td>434</td>\n",
       "      <td>rs987870</td>\n",
       "      <td>COL11A2</td>\n",
       "    </tr>\n",
       "    <tr>\n",
       "      <td>438</td>\n",
       "      <td>rs987870</td>\n",
       "      <td>RXRB</td>\n",
       "    </tr>\n",
       "    <tr>\n",
       "      <td>440</td>\n",
       "      <td>rs1494961</td>\n",
       "      <td>MRPS18C</td>\n",
       "    </tr>\n",
       "    <tr>\n",
       "      <td>441</td>\n",
       "      <td>rs1494961</td>\n",
       "      <td>SLC25A14P1</td>\n",
       "    </tr>\n",
       "    <tr>\n",
       "      <td>451</td>\n",
       "      <td>rs7250872</td>\n",
       "      <td>ATP8B3</td>\n",
       "    </tr>\n",
       "  </tbody>\n",
       "</table>\n",
       "<p>4007 rows × 2 columns</p>\n",
       "</div>"
      ],
      "text/plain": [
       "                 rsID GENCODE_name\n",
       "haplo 0    rs13037879         UQCC\n",
       "      1    rs13038012         UQCC\n",
       "      2     rs8115394         UQCC\n",
       "      3     rs2425054         UQCC\n",
       "      4     rs8117705         UQCC\n",
       "...               ...          ...\n",
       "gtex  434    rs987870      COL11A2\n",
       "      438    rs987870         RXRB\n",
       "      440   rs1494961      MRPS18C\n",
       "      441   rs1494961   SLC25A14P1\n",
       "      451   rs7250872       ATP8B3\n",
       "\n",
       "[4007 rows x 2 columns]"
      ]
     },
     "execution_count": 78,
     "metadata": {},
     "output_type": "execute_result"
    }
   ],
   "source": [
    "#join Haploreg_PheWAS_final and eQTL_query_PheWAS_haplofilter\n",
    "frames = [Haploreg_PheWAS_final,eQTL_query_PheWAS_haplofilter]\n",
    "snps_gene_haploreg_gtex = pd.concat(frames, keys=['haplo', 'gtex'])\n",
    "\n",
    "snps_gene_haploreg_gtex"
   ]
  },
  {
   "cell_type": "code",
   "execution_count": 79,
   "metadata": {},
   "outputs": [],
   "source": [
    "#remove duplicates from joined dataframe\n",
    "snps_gene_haploreg_gtex=snps_gene_haploreg_gtex.drop_duplicates(keep=\"first\",inplace=False)"
   ]
  },
  {
   "cell_type": "code",
   "execution_count": 81,
   "metadata": {},
   "outputs": [],
   "source": [
    "snps_gene_haploreg_gtex #done\n",
    "snps_gene_haploreg_gtex.to_csv(\"snps_gene_haploreg_gtex.csv\",index=False)"
   ]
  },
  {
   "cell_type": "code",
   "execution_count": null,
   "metadata": {},
   "outputs": [],
   "source": [
    "#################################################################"
   ]
  }
 ],
 "metadata": {
  "kernelspec": {
   "display_name": "Python 3",
   "language": "python",
   "name": "python3"
  },
  "language_info": {
   "codemirror_mode": {
    "name": "ipython",
    "version": 3
   },
   "file_extension": ".py",
   "mimetype": "text/x-python",
   "name": "python",
   "nbconvert_exporter": "python",
   "pygments_lexer": "ipython3",
   "version": "3.7.3"
  }
 },
 "nbformat": 4,
 "nbformat_minor": 2
}
